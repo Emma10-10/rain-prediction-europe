{
 "cells": [
  {
   "cell_type": "markdown",
   "id": "05b1ce60",
   "metadata": {},
   "source": [
    "# Logistic Regression on European Weather Data from [Kaggle](https://www.kaggle.com/datasets/orvile/european-cities-weather-prediction-dataset/data)"
   ]
  },
  {
   "cell_type": "markdown",
   "id": "b0625713",
   "metadata": {},
   "source": [
    "## Table of Contents\n",
    "\n",
    "- [Introduction](#Introduction)\n",
    "- [Reshaping the DataFrame + Some Exploratory Data Analysis](#Reshaping-the-DataFrame-+-Some-Exploratory-Data-Analysis)\n",
    "- [Preprocessing](#Preprocessing)\n",
    "- [Training a Logistic Regression Model](#Training-a-Logistic-Regression-Model)\n",
    "- [Evaluating the Model and Making Predictions](#Evaluating-the-Model-and-Making-Predictions)\n",
    "- [Saving the Trained Model](#Saving-the-Trained-Model)\n",
    "- [Conclusion](#Conclusion)"
   ]
  },
  {
   "cell_type": "markdown",
   "id": "9a958176",
   "metadata": {},
   "source": [
    "## Introduction"
   ]
  },
  {
   "cell_type": "markdown",
   "id": "b903bf62",
   "metadata": {},
   "source": [
    "In this project, we explore a weather dataset covering 18 European cities from 2000-2010 to build a predictive model that determines whether it will rain tomorrow or not. This is a binary classification task, where the target variable is rain_tomorrow, indicating the presence (1) or absence (0) of rainfall on the following day.\n",
    "\n",
    "We will approach the problem using Logistic Regression, a simple yet effective machine learning algorithm for binary classification. The goal is to leverage historical weather data — such as temperature, humidity, pressure, and cloud cover — to make accurate predictions about future rainfall events. Accurate forecasts of rain can be crucial for agriculture, travel planning, and various day-to-day decisions.\n",
    "\n",
    "This notebook walks through the entire process from data loading and exploration, to preprocessing, training, evaluation, and finally, saving the model for future use."
   ]
  },
  {
   "cell_type": "markdown",
   "id": "4aa2c025",
   "metadata": {},
   "source": [
    "## Reshaping the DataFrame + Some Exploratory Data Analysis"
   ]
  },
  {
   "cell_type": "markdown",
   "id": "1ac56893",
   "metadata": {},
   "source": [
    "### Loading Packages and Data"
   ]
  },
  {
   "cell_type": "code",
   "execution_count": 1,
   "id": "7bb8a748",
   "metadata": {
    "scrolled": false
   },
   "outputs": [
    {
     "name": "stdout",
     "output_type": "stream",
     "text": [
      "Descriptive statistics for the dataset:\n",
      "                      DATE        MONTH  BASEL_cloud_cover  BASEL_humidity  \\\n",
      "count                 3654  3654.000000        3654.000000     3654.000000   \n",
      "mean   2004-12-31 12:00:00     6.520799           5.418446        0.745107   \n",
      "min    2000-01-01 00:00:00     1.000000           0.000000        0.380000   \n",
      "25%    2002-07-02 06:00:00     4.000000           4.000000        0.670000   \n",
      "50%    2004-12-31 12:00:00     7.000000           6.000000        0.760000   \n",
      "75%    2007-07-02 18:00:00    10.000000           7.000000        0.830000   \n",
      "max    2010-01-01 00:00:00    12.000000           8.000000        0.980000   \n",
      "std                    NaN     3.450083           2.325497        0.107788   \n",
      "\n",
      "       BASEL_pressure  BASEL_global_radiation  BASEL_precipitation  \\\n",
      "count     3654.000000             3654.000000          3654.000000   \n",
      "mean         1.017876                1.330380             0.234849   \n",
      "min          0.985600                0.050000             0.000000   \n",
      "25%          1.013300                0.530000             0.000000   \n",
      "50%          1.017700                1.110000             0.000000   \n",
      "75%          1.022700                2.060000             0.210000   \n",
      "max          1.040800                3.550000             7.570000   \n",
      "std          0.007962                0.935348             0.536267   \n",
      "\n",
      "       BASEL_sunshine  BASEL_temp_mean  BASEL_temp_min  ...  \\\n",
      "count     3654.000000      3654.000000     3654.000000  ...   \n",
      "mean         4.661193        11.022797        6.989135  ...   \n",
      "min          0.000000        -9.300000      -16.000000  ...   \n",
      "25%          0.500000         5.300000        2.000000  ...   \n",
      "50%          3.600000        11.400000        7.300000  ...   \n",
      "75%          8.000000        16.900000       12.400000  ...   \n",
      "max         15.300000        29.000000       20.800000  ...   \n",
      "std          4.330112         7.414754        6.653356  ...   \n",
      "\n",
      "       STOCKHOLM_temp_min  STOCKHOLM_temp_max  TOURS_wind_speed  \\\n",
      "count         3654.000000         3654.000000       3654.000000   \n",
      "mean             5.104215           11.470635          3.677258   \n",
      "min            -19.700000          -14.500000          0.700000   \n",
      "25%              0.000000            4.100000          2.600000   \n",
      "50%              5.000000           11.000000          3.400000   \n",
      "75%             11.200000           19.000000          4.600000   \n",
      "max             21.200000           32.900000         10.800000   \n",
      "std              7.250744            8.950217          1.519866   \n",
      "\n",
      "       TOURS_humidity  TOURS_pressure  TOURS_global_radiation  \\\n",
      "count     3654.000000     3654.000000             3654.000000   \n",
      "mean         0.781872        1.016639                1.369787   \n",
      "min          0.330000        0.000300                0.050000   \n",
      "25%          0.700000        1.012100                0.550000   \n",
      "50%          0.800000        1.017300                1.235000   \n",
      "75%          0.870000        1.022200                2.090000   \n",
      "max          1.000000        1.041400                3.560000   \n",
      "std          0.115572        0.018885                0.926472   \n",
      "\n",
      "       TOURS_precipitation  TOURS_temp_mean  TOURS_temp_min  TOURS_temp_max  \n",
      "count          3654.000000      3654.000000     3654.000000     3654.000000  \n",
      "mean              0.186100        12.205802        7.860536       16.551779  \n",
      "min               0.000000        -6.200000      -13.000000       -3.100000  \n",
      "25%               0.000000         7.600000        3.700000       10.800000  \n",
      "50%               0.000000        12.300000        8.300000       16.600000  \n",
      "75%               0.160000        17.200000       12.300000       22.400000  \n",
      "max               6.200000        31.200000       22.600000       39.800000  \n",
      "std               0.422151         6.467155        5.692256        7.714924  \n",
      "\n",
      "[8 rows x 165 columns]\n"
     ]
    }
   ],
   "source": [
    "# Load necessary packages\n",
    "import pandas as pd\n",
    "import plotly.graph_objects as go\n",
    "import matplotlib.pyplot as plt\n",
    "import matplotlib\n",
    "import plotly.express as px\n",
    "import seaborn as sns\n",
    "import numpy as np\n",
    "\n",
    "from sklearn.linear_model import LogisticRegression # train a logistic regression model\n",
    "from sklearn.linear_model import SGDRegressor # train a model using the Stochastic Gradient Descent (SGD) technique\n",
    "from sklearn.model_selection import train_test_split # to split data in train and test data \n",
    "from sklearn import preprocessing # imports preprocessing tools like One-Hot Encoding, used for handling categorical data.\n",
    "from sklearn.preprocessing import StandardScaler # scale (or standardize) the values in numeric column\n",
    "from sklearn.impute import SimpleImputer # replace missing values in a column\n",
    "from sklearn.preprocessing import MinMaxScaler # scale data to a (0,1) range\n",
    "from sklearn.metrics import accuracy_score # test the accuracy of the model's predictions\n",
    "from sklearn.metrics import confusion_matrix # visualize the breakdown of correctly and incorrectly classified inputs using a confusion matrix\n",
    "\n",
    "import joblib # for saving and loading Python objects like the machine learning model\n",
    "\n",
    "# Load the weather dataset\n",
    "file_path= 'data//weather_prediction_dataset.csv'\n",
    "\n",
    "df = pd.read_csv(file_path)\n",
    "\n",
    "# Convert the DATE column to datetime type\n",
    "df['DATE'] = pd.to_datetime(df['DATE'], format='%Y%m%d')\n",
    "\n",
    "# Sort the DataFrame by the 'DATE' column\n",
    "df = df.sort_values(by='DATE')\n",
    "\n",
    "# print descriptive statistics of the dataset\n",
    "print('Descriptive statistics for the dataset:')\n",
    "print(df.describe())"
   ]
  },
  {
   "cell_type": "markdown",
   "id": "e2224f2a",
   "metadata": {},
   "source": [
    "### Reshaping the DataFrame"
   ]
  },
  {
   "cell_type": "markdown",
   "id": "302bcdda",
   "metadata": {},
   "source": [
    "The dataset initially comes in a **wide format**, where each weather variable for each city is represented as its own column—for example, `BASEL_cloud_cover`, `BUDAPEST_temp_mean`, `DRESDEN_precipitation`, and so on. This structure makes it difficult to analyze or model data across locations in a unified way.\n",
    "\n",
    "To address this, the DataFrame is reshaped into a **long format**, where each row represents the weather data for a single location on a specific date. Here's how the transformation works:\n",
    "\n",
    "- The city name is extracted from each column and stored in a new column called `LOCATION`.\n",
    "- The weather variables (`cloud_cover`, `humidity`, `pressure`, `global_radiation`, `precipitation`, `sunshine`, `temp_mean`, `temp_min`, `temp_max`) are standardized into their own columns.\n",
    "- The original `DATE` and `MONTH` columns are retained, and the new `LOCATION` column is placed just after `MONTH`."
   ]
  },
  {
   "cell_type": "code",
   "execution_count": 2,
   "id": "fbef0462",
   "metadata": {},
   "outputs": [
    {
     "name": "stdout",
     "output_type": "stream",
     "text": [
      "<class 'pandas.core.frame.DataFrame'>\n",
      "Index: 62067 entries, 0 to 62116\n",
      "Data columns (total 14 columns):\n",
      " #   Column            Non-Null Count  Dtype         \n",
      "---  ------            --------------  -----         \n",
      " 0   DATE              62067 non-null  datetime64[ns]\n",
      " 1   MONTH             62067 non-null  int64         \n",
      " 2   LOCATION          62067 non-null  object        \n",
      " 3   rain_today        62067 non-null  int32         \n",
      " 4   rain_tomorrow     62067 non-null  float64       \n",
      " 5   cloud_cover       43802 non-null  float64       \n",
      " 6   humidity          54795 non-null  float64       \n",
      " 7   pressure          51108 non-null  float64       \n",
      " 8   global_radiation  54795 non-null  float64       \n",
      " 9   precipitation     62067 non-null  float64       \n",
      " 10  sunshine          47455 non-null  float64       \n",
      " 11  temp_mean         62067 non-null  float64       \n",
      " 12  temp_min          58414 non-null  float64       \n",
      " 13  temp_max          62067 non-null  float64       \n",
      "dtypes: datetime64[ns](1), float64(10), int32(1), int64(1), object(1)\n",
      "memory usage: 6.9+ MB\n",
      "None\n"
     ]
    }
   ],
   "source": [
    "# Step 1: desired weather features\n",
    "features = ['cloud_cover', 'humidity', 'pressure', 'global_radiation', 'precipitation',\n",
    "            'sunshine', 'temp_mean', 'temp_min', 'temp_max']\n",
    "\n",
    "# Step 2: list of cities\n",
    "locations = ['BASEL', 'BUDAPEST', 'DE_BILT', 'DRESDEN', 'DUSSELDORF', 'HEATHROW', 'KASSEL',\n",
    "             'LJUBLJANA', 'MAASTRICHT', 'MALMO', 'MONTELIMAR', 'MUENCHEN', 'OSLO',\n",
    "             'PERPIGNAN', 'SONNBLICK', 'STOCKHOLM', 'TOURS']\n",
    "\n",
    "# Step 3: gather all valid city sub-dataframes\n",
    "long_format_rows = []\n",
    "\n",
    "for loc in locations:\n",
    "    # Check which features exist for this location\n",
    "    valid_features = [f for f in features if f\"{loc}_{f}\" in df.columns]\n",
    "    loc_columns = {f\"{loc}_{f}\": f for f in valid_features}\n",
    "\n",
    "    if not loc_columns:\n",
    "        continue  # skip this location if no valid features\n",
    "\n",
    "    # Build the temporary dataframe\n",
    "    temp_df = df[['DATE', 'MONTH'] + list(loc_columns.keys())].copy()\n",
    "    temp_df.rename(columns=loc_columns, inplace=True)\n",
    "    temp_df['LOCATION'] = loc\n",
    "\n",
    "    # Add rain_today\n",
    "    temp_df = temp_df.dropna(subset=['precipitation'])\n",
    "    temp_df['rain_today'] = (temp_df['precipitation'] > 0).astype(int)\n",
    "\n",
    "    # Sort by date just in case\n",
    "    temp_df = temp_df.sort_values('DATE')\n",
    "\n",
    "    # Add rain_tomorrow by shifting\n",
    "    temp_df['rain_tomorrow'] = temp_df['rain_today'].shift(-1)\n",
    "\n",
    "    # Final column order\n",
    "    temp_df = temp_df[['DATE', 'MONTH', 'LOCATION', 'rain_today', 'rain_tomorrow'] + list(loc_columns.values())]\n",
    "\n",
    "    long_format_rows.append(temp_df)\n",
    "\n",
    "# Step 4: Concatenate all into one long dataframe\n",
    "weather = pd.concat(long_format_rows, ignore_index=True)\n",
    "\n",
    "weather.dropna(subset=['rain_tomorrow'], inplace=True)\n",
    "weather = weather.drop(weather[weather['cloud_cover'] < 0].index)\n",
    "weather = weather.drop(weather[weather['sunshine'] < 0].index)\n",
    "weather = weather.drop(weather[weather['pressure'] < 0].index)\n",
    "\n",
    "print(weather.info())"
   ]
  },
  {
   "cell_type": "markdown",
   "id": "72cd3977",
   "metadata": {},
   "source": [
    "### Exploratory Data Analysis"
   ]
  },
  {
   "cell_type": "code",
   "execution_count": 36,
   "id": "d8217fc5",
   "metadata": {},
   "outputs": [
    {
     "data": {
      "image/png": "[encoded data removed]",
      "text/plain": [
       "<Figure size 1080x720 with 9 Axes>"
      ]
     },
     "metadata": {
      "needs_background": "light"
     },
     "output_type": "display_data"
    }
   ],
   "source": [
    "# Visualize the distribution of a few weather variables using histograms\n",
    "columns = ['cloud_cover', 'humidity', 'pressure', 'global_radiation', \n",
    "                'MONTH', 'sunshine', 'temp_mean', 'temp_min', 'temp_max']\n",
    "\n",
    "plt.figure(figsize=(15, 10))\n",
    "for idx, col in enumerate(columns):\n",
    "    plt.subplot(3, 3, idx+1)\n",
    "    sns.histplot(data=weather, x=col, kde=False, hue='rain_tomorrow')\n",
    "    if col == 'pressure':\n",
    "        plt.xlim(0.95, 1.075)\n",
    "    plt.title(f'{col} vs. Rain Tomorrow')\n",
    "plt.tight_layout()\n",
    "\n",
    "# Save the figure as a PNG file\n",
    "#plt.savefig('weather_distribution.png', dpi=300)  # Saves the figure with 300 dpi\n",
    "\n",
    "plt.show()\n"
   ]
  },
  {
   "cell_type": "markdown",
   "id": "fa091e27",
   "metadata": {},
   "source": [
    "From these histograms, we can start to observe relationships between certain weather variables and the likelihood of rain the next day. For instance, higher atmospheric pressure appears to be associated with a lower chance of rain tomorrow, while lower pressure often coincides with rainy conditions. Additionally, the summer months show a greater tendency for rain, suggesting seasonal patterns in precipitation. Interestingly, higher maximum temperatures also seem to increase the probability of rain the following day."
   ]
  },
  {
   "cell_type": "code",
   "execution_count": 4,
   "id": "9657dce2",
   "metadata": {},
   "outputs": [
    {
     "data": {
      "image/png": "[encoded data removed]",
      "text/plain": [
       "<Figure size 432x288 with 1 Axes>"
      ]
     },
     "metadata": {
      "needs_background": "light"
     },
     "output_type": "display_data"
    }
   ],
   "source": [
    "plt.title('No. of Rows per Year')\n",
    "sns.countplot(x=weather[\"DATE\"].dt.year);"
   ]
  },
  {
   "cell_type": "markdown",
   "id": "724b144a",
   "metadata": {},
   "source": [
    "## Preprocessing"
   ]
  },
  {
   "cell_type": "markdown",
   "id": "0c3af719",
   "metadata": {},
   "source": [
    "### Splitting the Data into a Train- a Validation- and a Test-Set\n",
    "Since we are working with dates we will separate the training, validation and test sets with time, so that the model is trained on data from the past and evaluated on data from the future."
   ]
  },
  {
   "cell_type": "code",
   "execution_count": 5,
   "id": "abd0d11f",
   "metadata": {},
   "outputs": [
    {
     "name": "stdout",
     "output_type": "stream",
     "text": [
      "Descriptive statistics for the training dataset:\n"
     ]
    },
    {
     "data": {
      "text/html": [
       "<div>\n",
       "<style scoped>\n",
       "    .dataframe tbody tr th:only-of-type {\n",
       "        vertical-align: middle;\n",
       "    }\n",
       "\n",
       "    .dataframe tbody tr th {\n",
       "        vertical-align: top;\n",
       "    }\n",
       "\n",
       "    .dataframe thead th {\n",
       "        text-align: right;\n",
       "    }\n",
       "</style>\n",
       "<table border=\"1\" class=\"dataframe\">\n",
       "  <thead>\n",
       "    <tr style=\"text-align: right;\">\n",
       "      <th></th>\n",
       "      <th>DATE</th>\n",
       "      <th>MONTH</th>\n",
       "      <th>rain_today</th>\n",
       "      <th>rain_tomorrow</th>\n",
       "      <th>cloud_cover</th>\n",
       "      <th>humidity</th>\n",
       "      <th>pressure</th>\n",
       "      <th>global_radiation</th>\n",
       "      <th>precipitation</th>\n",
       "      <th>sunshine</th>\n",
       "      <th>temp_mean</th>\n",
       "      <th>temp_min</th>\n",
       "      <th>temp_max</th>\n",
       "    </tr>\n",
       "  </thead>\n",
       "  <tbody>\n",
       "    <tr>\n",
       "      <th>count</th>\n",
       "      <td>37240</td>\n",
       "      <td>37240.000000</td>\n",
       "      <td>37240.00000</td>\n",
       "      <td>37240.000000</td>\n",
       "      <td>26280.000000</td>\n",
       "      <td>32880.000000</td>\n",
       "      <td>30664.000000</td>\n",
       "      <td>32880.000000</td>\n",
       "      <td>37240.000000</td>\n",
       "      <td>28472.000000</td>\n",
       "      <td>37240.000000</td>\n",
       "      <td>35048.000000</td>\n",
       "      <td>37240.000000</td>\n",
       "    </tr>\n",
       "    <tr>\n",
       "      <th>mean</th>\n",
       "      <td>2002-12-31 13:12:06.960257664</td>\n",
       "      <td>6.522503</td>\n",
       "      <td>0.46007</td>\n",
       "      <td>0.460150</td>\n",
       "      <td>5.290297</td>\n",
       "      <td>0.751252</td>\n",
       "      <td>1.016099</td>\n",
       "      <td>1.349449</td>\n",
       "      <td>0.230425</td>\n",
       "      <td>4.840464</td>\n",
       "      <td>9.965467</td>\n",
       "      <td>5.966877</td>\n",
       "      <td>14.011595</td>\n",
       "    </tr>\n",
       "    <tr>\n",
       "      <th>min</th>\n",
       "      <td>2000-01-01 00:00:00</td>\n",
       "      <td>1.000000</td>\n",
       "      <td>0.00000</td>\n",
       "      <td>0.000000</td>\n",
       "      <td>0.000000</td>\n",
       "      <td>0.180000</td>\n",
       "      <td>0.959000</td>\n",
       "      <td>0.010000</td>\n",
       "      <td>0.000000</td>\n",
       "      <td>0.000000</td>\n",
       "      <td>-26.600000</td>\n",
       "      <td>-30.300000</td>\n",
       "      <td>-24.700000</td>\n",
       "    </tr>\n",
       "    <tr>\n",
       "      <th>25%</th>\n",
       "      <td>2001-07-02 00:00:00</td>\n",
       "      <td>4.000000</td>\n",
       "      <td>0.00000</td>\n",
       "      <td>0.000000</td>\n",
       "      <td>4.000000</td>\n",
       "      <td>0.660000</td>\n",
       "      <td>1.011100</td>\n",
       "      <td>0.510000</td>\n",
       "      <td>0.000000</td>\n",
       "      <td>0.500000</td>\n",
       "      <td>4.100000</td>\n",
       "      <td>0.900000</td>\n",
       "      <td>7.200000</td>\n",
       "    </tr>\n",
       "    <tr>\n",
       "      <th>50%</th>\n",
       "      <td>2002-12-31 12:00:00</td>\n",
       "      <td>7.000000</td>\n",
       "      <td>0.00000</td>\n",
       "      <td>0.000000</td>\n",
       "      <td>6.000000</td>\n",
       "      <td>0.770000</td>\n",
       "      <td>1.016500</td>\n",
       "      <td>1.150000</td>\n",
       "      <td>0.000000</td>\n",
       "      <td>4.000000</td>\n",
       "      <td>10.500000</td>\n",
       "      <td>6.600000</td>\n",
       "      <td>14.400000</td>\n",
       "    </tr>\n",
       "    <tr>\n",
       "      <th>75%</th>\n",
       "      <td>2004-07-02 00:00:00</td>\n",
       "      <td>10.000000</td>\n",
       "      <td>1.00000</td>\n",
       "      <td>1.000000</td>\n",
       "      <td>7.000000</td>\n",
       "      <td>0.860000</td>\n",
       "      <td>1.021700</td>\n",
       "      <td>2.090000</td>\n",
       "      <td>0.200000</td>\n",
       "      <td>8.200000</td>\n",
       "      <td>16.200000</td>\n",
       "      <td>11.700000</td>\n",
       "      <td>21.100000</td>\n",
       "    </tr>\n",
       "    <tr>\n",
       "      <th>max</th>\n",
       "      <td>2005-12-31 00:00:00</td>\n",
       "      <td>12.000000</td>\n",
       "      <td>1.00000</td>\n",
       "      <td>1.000000</td>\n",
       "      <td>9.000000</td>\n",
       "      <td>1.000000</td>\n",
       "      <td>1.051200</td>\n",
       "      <td>4.420000</td>\n",
       "      <td>16.040000</td>\n",
       "      <td>17.800000</td>\n",
       "      <td>31.800000</td>\n",
       "      <td>26.100000</td>\n",
       "      <td>41.100000</td>\n",
       "    </tr>\n",
       "    <tr>\n",
       "      <th>std</th>\n",
       "      <td>NaN</td>\n",
       "      <td>3.448840</td>\n",
       "      <td>0.49841</td>\n",
       "      <td>0.498416</td>\n",
       "      <td>2.268183</td>\n",
       "      <td>0.140640</td>\n",
       "      <td>0.009124</td>\n",
       "      <td>0.957606</td>\n",
       "      <td>0.578466</td>\n",
       "      <td>4.389168</td>\n",
       "      <td>8.398075</td>\n",
       "      <td>7.583113</td>\n",
       "      <td>9.559829</td>\n",
       "    </tr>\n",
       "  </tbody>\n",
       "</table>\n",
       "</div>"
      ],
      "text/plain": [
       "                                DATE         MONTH   rain_today  \\\n",
       "count                          37240  37240.000000  37240.00000   \n",
       "mean   2002-12-31 13:12:06.960257664      6.522503      0.46007   \n",
       "min              2000-01-01 00:00:00      1.000000      0.00000   \n",
       "25%              2001-07-02 00:00:00      4.000000      0.00000   \n",
       "50%              2002-12-31 12:00:00      7.000000      0.00000   \n",
       "75%              2004-07-02 00:00:00     10.000000      1.00000   \n",
       "max              2005-12-31 00:00:00     12.000000      1.00000   \n",
       "std                              NaN      3.448840      0.49841   \n",
       "\n",
       "       rain_tomorrow   cloud_cover      humidity      pressure  \\\n",
       "count   37240.000000  26280.000000  32880.000000  30664.000000   \n",
       "mean        0.460150      5.290297      0.751252      1.016099   \n",
       "min         0.000000      0.000000      0.180000      0.959000   \n",
       "25%         0.000000      4.000000      0.660000      1.011100   \n",
       "50%         0.000000      6.000000      0.770000      1.016500   \n",
       "75%         1.000000      7.000000      0.860000      1.021700   \n",
       "max         1.000000      9.000000      1.000000      1.051200   \n",
       "std         0.498416      2.268183      0.140640      0.009124   \n",
       "\n",
       "       global_radiation  precipitation      sunshine     temp_mean  \\\n",
       "count      32880.000000   37240.000000  28472.000000  37240.000000   \n",
       "mean           1.349449       0.230425      4.840464      9.965467   \n",
       "min            0.010000       0.000000      0.000000    -26.600000   \n",
       "25%            0.510000       0.000000      0.500000      4.100000   \n",
       "50%            1.150000       0.000000      4.000000     10.500000   \n",
       "75%            2.090000       0.200000      8.200000     16.200000   \n",
       "max            4.420000      16.040000     17.800000     31.800000   \n",
       "std            0.957606       0.578466      4.389168      8.398075   \n",
       "\n",
       "           temp_min      temp_max  \n",
       "count  35048.000000  37240.000000  \n",
       "mean       5.966877     14.011595  \n",
       "min      -30.300000    -24.700000  \n",
       "25%        0.900000      7.200000  \n",
       "50%        6.600000     14.400000  \n",
       "75%       11.700000     21.100000  \n",
       "max       26.100000     41.100000  \n",
       "std        7.583113      9.559829  "
      ]
     },
     "execution_count": 5,
     "metadata": {},
     "output_type": "execute_result"
    }
   ],
   "source": [
    "# Extract the year from the 'DATE' column\n",
    "weather['year'] = weather['DATE'].dt.year\n",
    "\n",
    "# Create the train, validation, and test datasets based on the year\n",
    "train_df = weather[weather['year'] < 2006]\n",
    "val_df = weather[(weather['year'] >= 2006) & (weather['year'] < 2008)]\n",
    "test_df = weather[weather['year'] >= 2008]\n",
    "\n",
    "# Drop the 'year' column if it's no longer needed\n",
    "train_df = train_df.drop(columns=['year'])\n",
    "val_df = val_df.drop(columns=['year'])\n",
    "test_df = test_df.drop(columns=['year'])\n",
    "\n",
    "# print descriptive statistics of the training dataset\n",
    "print('Descriptive statistics for the training dataset:')\n",
    "train_df.describe()"
   ]
  },
  {
   "cell_type": "markdown",
   "id": "de3e2756",
   "metadata": {},
   "source": [
    "### Identifying Input and Target Columns"
   ]
  },
  {
   "cell_type": "code",
   "execution_count": 6,
   "id": "3e4a2c93",
   "metadata": {},
   "outputs": [
    {
     "data": {
      "text/html": [
       "<div>\n",
       "<style scoped>\n",
       "    .dataframe tbody tr th:only-of-type {\n",
       "        vertical-align: middle;\n",
       "    }\n",
       "\n",
       "    .dataframe tbody tr th {\n",
       "        vertical-align: top;\n",
       "    }\n",
       "\n",
       "    .dataframe thead th {\n",
       "        text-align: right;\n",
       "    }\n",
       "</style>\n",
       "<table border=\"1\" class=\"dataframe\">\n",
       "  <thead>\n",
       "    <tr style=\"text-align: right;\">\n",
       "      <th></th>\n",
       "      <th>cloud_cover</th>\n",
       "      <th>humidity</th>\n",
       "      <th>pressure</th>\n",
       "      <th>global_radiation</th>\n",
       "      <th>precipitation</th>\n",
       "      <th>sunshine</th>\n",
       "      <th>temp_mean</th>\n",
       "      <th>temp_min</th>\n",
       "      <th>temp_max</th>\n",
       "    </tr>\n",
       "  </thead>\n",
       "  <tbody>\n",
       "    <tr>\n",
       "      <th>count</th>\n",
       "      <td>26280.000000</td>\n",
       "      <td>32880.000000</td>\n",
       "      <td>30664.000000</td>\n",
       "      <td>32880.000000</td>\n",
       "      <td>37240.000000</td>\n",
       "      <td>28472.000000</td>\n",
       "      <td>37240.000000</td>\n",
       "      <td>35048.000000</td>\n",
       "      <td>37240.000000</td>\n",
       "    </tr>\n",
       "    <tr>\n",
       "      <th>mean</th>\n",
       "      <td>5.290297</td>\n",
       "      <td>0.751252</td>\n",
       "      <td>1.016099</td>\n",
       "      <td>1.349449</td>\n",
       "      <td>0.230425</td>\n",
       "      <td>4.840464</td>\n",
       "      <td>9.965467</td>\n",
       "      <td>5.966877</td>\n",
       "      <td>14.011595</td>\n",
       "    </tr>\n",
       "    <tr>\n",
       "      <th>std</th>\n",
       "      <td>2.268183</td>\n",
       "      <td>0.140640</td>\n",
       "      <td>0.009124</td>\n",
       "      <td>0.957606</td>\n",
       "      <td>0.578466</td>\n",
       "      <td>4.389168</td>\n",
       "      <td>8.398075</td>\n",
       "      <td>7.583113</td>\n",
       "      <td>9.559829</td>\n",
       "    </tr>\n",
       "    <tr>\n",
       "      <th>min</th>\n",
       "      <td>0.000000</td>\n",
       "      <td>0.180000</td>\n",
       "      <td>0.959000</td>\n",
       "      <td>0.010000</td>\n",
       "      <td>0.000000</td>\n",
       "      <td>0.000000</td>\n",
       "      <td>-26.600000</td>\n",
       "      <td>-30.300000</td>\n",
       "      <td>-24.700000</td>\n",
       "    </tr>\n",
       "    <tr>\n",
       "      <th>25%</th>\n",
       "      <td>4.000000</td>\n",
       "      <td>0.660000</td>\n",
       "      <td>1.011100</td>\n",
       "      <td>0.510000</td>\n",
       "      <td>0.000000</td>\n",
       "      <td>0.500000</td>\n",
       "      <td>4.100000</td>\n",
       "      <td>0.900000</td>\n",
       "      <td>7.200000</td>\n",
       "    </tr>\n",
       "    <tr>\n",
       "      <th>50%</th>\n",
       "      <td>6.000000</td>\n",
       "      <td>0.770000</td>\n",
       "      <td>1.016500</td>\n",
       "      <td>1.150000</td>\n",
       "      <td>0.000000</td>\n",
       "      <td>4.000000</td>\n",
       "      <td>10.500000</td>\n",
       "      <td>6.600000</td>\n",
       "      <td>14.400000</td>\n",
       "    </tr>\n",
       "    <tr>\n",
       "      <th>75%</th>\n",
       "      <td>7.000000</td>\n",
       "      <td>0.860000</td>\n",
       "      <td>1.021700</td>\n",
       "      <td>2.090000</td>\n",
       "      <td>0.200000</td>\n",
       "      <td>8.200000</td>\n",
       "      <td>16.200000</td>\n",
       "      <td>11.700000</td>\n",
       "      <td>21.100000</td>\n",
       "    </tr>\n",
       "    <tr>\n",
       "      <th>max</th>\n",
       "      <td>9.000000</td>\n",
       "      <td>1.000000</td>\n",
       "      <td>1.051200</td>\n",
       "      <td>4.420000</td>\n",
       "      <td>16.040000</td>\n",
       "      <td>17.800000</td>\n",
       "      <td>31.800000</td>\n",
       "      <td>26.100000</td>\n",
       "      <td>41.100000</td>\n",
       "    </tr>\n",
       "  </tbody>\n",
       "</table>\n",
       "</div>"
      ],
      "text/plain": [
       "        cloud_cover      humidity      pressure  global_radiation  \\\n",
       "count  26280.000000  32880.000000  30664.000000      32880.000000   \n",
       "mean       5.290297      0.751252      1.016099          1.349449   \n",
       "std        2.268183      0.140640      0.009124          0.957606   \n",
       "min        0.000000      0.180000      0.959000          0.010000   \n",
       "25%        4.000000      0.660000      1.011100          0.510000   \n",
       "50%        6.000000      0.770000      1.016500          1.150000   \n",
       "75%        7.000000      0.860000      1.021700          2.090000   \n",
       "max        9.000000      1.000000      1.051200          4.420000   \n",
       "\n",
       "       precipitation      sunshine     temp_mean      temp_min      temp_max  \n",
       "count   37240.000000  28472.000000  37240.000000  35048.000000  37240.000000  \n",
       "mean        0.230425      4.840464      9.965467      5.966877     14.011595  \n",
       "std         0.578466      4.389168      8.398075      7.583113      9.559829  \n",
       "min         0.000000      0.000000    -26.600000    -30.300000    -24.700000  \n",
       "25%         0.000000      0.500000      4.100000      0.900000      7.200000  \n",
       "50%         0.000000      4.000000     10.500000      6.600000     14.400000  \n",
       "75%         0.200000      8.200000     16.200000     11.700000     21.100000  \n",
       "max        16.040000     17.800000     31.800000     26.100000     41.100000  "
      ]
     },
     "execution_count": 6,
     "metadata": {},
     "output_type": "execute_result"
    }
   ],
   "source": [
    "# define the rain_tomorrow column as the target column and all others as inputs\n",
    "input_cols = [col for col in train_df.columns if col != 'rain_tomorrow']\n",
    "target_col = 'rain_tomorrow'\n",
    "\n",
    "train_inputs = train_df[input_cols].copy()\n",
    "train_targets = train_df[target_col].copy()\n",
    "val_inputs = val_df[input_cols].copy()\n",
    "val_targets = val_df[target_col].copy()\n",
    "test_inputs = test_df[input_cols].copy()\n",
    "test_targets = test_df[target_col].copy()\n",
    "\n",
    "# differentiate between numeric and categorical columns\n",
    "numeric_cols = train_inputs.select_dtypes(include=np.number).columns.tolist()\n",
    "categorical_cols = train_inputs.select_dtypes('object').columns.tolist()\n",
    "\n",
    "# Move 'rain_today' and 'MONTH' from numeric to categorical if present\n",
    "for col in ['rain_today', 'MONTH']:\n",
    "    if col in numeric_cols:\n",
    "        numeric_cols.remove(col)\n",
    "        categorical_cols.append(col)\n",
    "\n",
    "train_inputs[numeric_cols].describe()"
   ]
  },
  {
   "cell_type": "markdown",
   "id": "0115e187",
   "metadata": {},
   "source": [
    "### Imputing Missing Numeric Data"
   ]
  },
  {
   "cell_type": "code",
   "execution_count": 7,
   "id": "446ac246",
   "metadata": {},
   "outputs": [
    {
     "name": "stdout",
     "output_type": "stream",
     "text": [
      "summary count of missing (NaN) values in each numeric column of the weather DataFrame: \n",
      "cloud_cover         18265\n",
      "humidity             7272\n",
      "pressure            10959\n",
      "global_radiation     7272\n",
      "precipitation           0\n",
      "sunshine            14612\n",
      "temp_mean               0\n",
      "temp_min             3653\n",
      "temp_max                0\n",
      "dtype: int64\n"
     ]
    }
   ],
   "source": [
    "print(\"summary count of missing (NaN) values in each numeric column of the weather DataFrame: \")\n",
    "print(weather[numeric_cols].isna().sum())"
   ]
  },
  {
   "cell_type": "code",
   "execution_count": 8,
   "id": "c45a61af",
   "metadata": {},
   "outputs": [
    {
     "name": "stdout",
     "output_type": "stream",
     "text": [
      "cloud_cover         0\n",
      "humidity            0\n",
      "pressure            0\n",
      "global_radiation    0\n",
      "precipitation       0\n",
      "sunshine            0\n",
      "temp_mean           0\n",
      "temp_min            0\n",
      "temp_max            0\n",
      "dtype: int64\n"
     ]
    }
   ],
   "source": [
    "# Fill in missing values in numeric columns using the mean of each column (computed from the full dataset)\n",
    "imputer = SimpleImputer(strategy = 'mean')\n",
    "imputer.fit(weather[numeric_cols])\n",
    "#print(list(imputer.statistics_))\n",
    "\n",
    "# Apply the fitted imputer to fill missing values in the training, validation, and test sets\n",
    "train_inputs[numeric_cols] = imputer.transform(train_inputs[numeric_cols])\n",
    "val_inputs[numeric_cols] = imputer.transform(val_inputs[numeric_cols])\n",
    "test_inputs[numeric_cols] = imputer.transform(test_inputs[numeric_cols])\n",
    "\n",
    "print(test_inputs[numeric_cols].isna().sum())"
   ]
  },
  {
   "cell_type": "markdown",
   "id": "0489e3a7",
   "metadata": {},
   "source": [
    "### Scaling Numeric Features"
   ]
  },
  {
   "cell_type": "code",
   "execution_count": 9,
   "id": "a98c11df",
   "metadata": {},
   "outputs": [
    {
     "name": "stdout",
     "output_type": "stream",
     "text": [
      "Minimum:\n",
      "[0.0, 0.1, 0.0003, 0.01, 0.0, 0.0, -26.6, -30.3, -24.7]\n",
      "Maximum:\n",
      "[9.0, 1.0, 1.0512, 4.42, 16.04, 24.0, 33.1, 26.3, 41.1]\n"
     ]
    }
   ],
   "source": [
    "# fit the scaler to the data i.e. compute the range of values for each numeric column\n",
    "scaler = MinMaxScaler()\n",
    "scaler.fit(weather[numeric_cols])\n",
    "\n",
    "print('Minimum:')\n",
    "print(list(scaler.data_min_))\n",
    "print('Maximum:')\n",
    "print(list(scaler.data_max_))"
   ]
  },
  {
   "cell_type": "code",
   "execution_count": 10,
   "id": "d616c5c6",
   "metadata": {},
   "outputs": [
    {
     "data": {
      "text/html": [
       "<div>\n",
       "<style scoped>\n",
       "    .dataframe tbody tr th:only-of-type {\n",
       "        vertical-align: middle;\n",
       "    }\n",
       "\n",
       "    .dataframe tbody tr th {\n",
       "        vertical-align: top;\n",
       "    }\n",
       "\n",
       "    .dataframe thead th {\n",
       "        text-align: right;\n",
       "    }\n",
       "</style>\n",
       "<table border=\"1\" class=\"dataframe\">\n",
       "  <thead>\n",
       "    <tr style=\"text-align: right;\">\n",
       "      <th></th>\n",
       "      <th>cloud_cover</th>\n",
       "      <th>humidity</th>\n",
       "      <th>pressure</th>\n",
       "      <th>global_radiation</th>\n",
       "      <th>precipitation</th>\n",
       "      <th>sunshine</th>\n",
       "      <th>temp_mean</th>\n",
       "      <th>temp_min</th>\n",
       "      <th>temp_max</th>\n",
       "    </tr>\n",
       "  </thead>\n",
       "  <tbody>\n",
       "    <tr>\n",
       "      <th>count</th>\n",
       "      <td>37240.000000</td>\n",
       "      <td>37240.000000</td>\n",
       "      <td>37240.000000</td>\n",
       "      <td>37240.000000</td>\n",
       "      <td>37240.000000</td>\n",
       "      <td>37240.000000</td>\n",
       "      <td>37240.000000</td>\n",
       "      <td>37240.000000</td>\n",
       "      <td>37240.000000</td>\n",
       "    </tr>\n",
       "    <tr>\n",
       "      <th>mean</th>\n",
       "      <td>0.587262</td>\n",
       "      <td>0.723501</td>\n",
       "      <td>0.966567</td>\n",
       "      <td>0.303809</td>\n",
       "      <td>0.014366</td>\n",
       "      <td>0.201780</td>\n",
       "      <td>0.612487</td>\n",
       "      <td>0.640824</td>\n",
       "      <td>0.588322</td>\n",
       "    </tr>\n",
       "    <tr>\n",
       "      <th>std</th>\n",
       "      <td>0.211711</td>\n",
       "      <td>0.146834</td>\n",
       "      <td>0.007879</td>\n",
       "      <td>0.204037</td>\n",
       "      <td>0.036064</td>\n",
       "      <td>0.159909</td>\n",
       "      <td>0.140671</td>\n",
       "      <td>0.129975</td>\n",
       "      <td>0.145286</td>\n",
       "    </tr>\n",
       "    <tr>\n",
       "      <th>min</th>\n",
       "      <td>0.000000</td>\n",
       "      <td>0.088889</td>\n",
       "      <td>0.912266</td>\n",
       "      <td>0.000000</td>\n",
       "      <td>0.000000</td>\n",
       "      <td>0.000000</td>\n",
       "      <td>0.000000</td>\n",
       "      <td>0.000000</td>\n",
       "      <td>0.000000</td>\n",
       "    </tr>\n",
       "    <tr>\n",
       "      <th>25%</th>\n",
       "      <td>0.555556</td>\n",
       "      <td>0.633333</td>\n",
       "      <td>0.963174</td>\n",
       "      <td>0.129252</td>\n",
       "      <td>0.000000</td>\n",
       "      <td>0.058333</td>\n",
       "      <td>0.514238</td>\n",
       "      <td>0.558304</td>\n",
       "      <td>0.484802</td>\n",
       "    </tr>\n",
       "    <tr>\n",
       "      <th>50%</th>\n",
       "      <td>0.585945</td>\n",
       "      <td>0.722656</td>\n",
       "      <td>0.966420</td>\n",
       "      <td>0.304408</td>\n",
       "      <td>0.000000</td>\n",
       "      <td>0.202085</td>\n",
       "      <td>0.621441</td>\n",
       "      <td>0.641892</td>\n",
       "      <td>0.594225</td>\n",
       "    </tr>\n",
       "    <tr>\n",
       "      <th>75%</th>\n",
       "      <td>0.777778</td>\n",
       "      <td>0.833333</td>\n",
       "      <td>0.970692</td>\n",
       "      <td>0.442177</td>\n",
       "      <td>0.012469</td>\n",
       "      <td>0.287500</td>\n",
       "      <td>0.716918</td>\n",
       "      <td>0.736749</td>\n",
       "      <td>0.696049</td>\n",
       "    </tr>\n",
       "    <tr>\n",
       "      <th>max</th>\n",
       "      <td>1.000000</td>\n",
       "      <td>1.000000</td>\n",
       "      <td>1.000000</td>\n",
       "      <td>1.000000</td>\n",
       "      <td>1.000000</td>\n",
       "      <td>0.741667</td>\n",
       "      <td>0.978224</td>\n",
       "      <td>0.996466</td>\n",
       "      <td>1.000000</td>\n",
       "    </tr>\n",
       "  </tbody>\n",
       "</table>\n",
       "</div>"
      ],
      "text/plain": [
       "        cloud_cover      humidity      pressure  global_radiation  \\\n",
       "count  37240.000000  37240.000000  37240.000000      37240.000000   \n",
       "mean       0.587262      0.723501      0.966567          0.303809   \n",
       "std        0.211711      0.146834      0.007879          0.204037   \n",
       "min        0.000000      0.088889      0.912266          0.000000   \n",
       "25%        0.555556      0.633333      0.963174          0.129252   \n",
       "50%        0.585945      0.722656      0.966420          0.304408   \n",
       "75%        0.777778      0.833333      0.970692          0.442177   \n",
       "max        1.000000      1.000000      1.000000          1.000000   \n",
       "\n",
       "       precipitation      sunshine     temp_mean      temp_min      temp_max  \n",
       "count   37240.000000  37240.000000  37240.000000  37240.000000  37240.000000  \n",
       "mean        0.014366      0.201780      0.612487      0.640824      0.588322  \n",
       "std         0.036064      0.159909      0.140671      0.129975      0.145286  \n",
       "min         0.000000      0.000000      0.000000      0.000000      0.000000  \n",
       "25%         0.000000      0.058333      0.514238      0.558304      0.484802  \n",
       "50%         0.000000      0.202085      0.621441      0.641892      0.594225  \n",
       "75%         0.012469      0.287500      0.716918      0.736749      0.696049  \n",
       "max         1.000000      0.741667      0.978224      0.996466      1.000000  "
      ]
     },
     "execution_count": 10,
     "metadata": {},
     "output_type": "execute_result"
    }
   ],
   "source": [
    "train_inputs[numeric_cols] = scaler.transform(train_inputs[numeric_cols])\n",
    "val_inputs[numeric_cols] = scaler.transform(val_inputs[numeric_cols])\n",
    "test_inputs[numeric_cols] = scaler.transform(test_inputs[numeric_cols])\n",
    "\n",
    "train_inputs[numeric_cols].describe()"
   ]
  },
  {
   "cell_type": "markdown",
   "id": "cb8d3208",
   "metadata": {},
   "source": [
    "### Encoding Categorical Data"
   ]
  },
  {
   "cell_type": "code",
   "execution_count": 11,
   "id": "dcfcbb51",
   "metadata": {},
   "outputs": [
    {
     "data": {
      "text/plain": [
       "LOCATION      17\n",
       "rain_today     2\n",
       "MONTH         12\n",
       "dtype: int64"
      ]
     },
     "execution_count": 11,
     "metadata": {},
     "output_type": "execute_result"
    }
   ],
   "source": [
    "weather[categorical_cols].nunique()"
   ]
  },
  {
   "cell_type": "code",
   "execution_count": 12,
   "id": "3320a9c9",
   "metadata": {},
   "outputs": [
    {
     "name": "stdout",
     "output_type": "stream",
     "text": [
      "['LOCATION_BASEL', 'LOCATION_BUDAPEST', 'LOCATION_DE_BILT', 'LOCATION_DRESDEN', 'LOCATION_DUSSELDORF', 'LOCATION_HEATHROW', 'LOCATION_KASSEL', 'LOCATION_LJUBLJANA', 'LOCATION_MAASTRICHT', 'LOCATION_MALMO', 'LOCATION_MONTELIMAR', 'LOCATION_MUENCHEN', 'LOCATION_OSLO', 'LOCATION_PERPIGNAN', 'LOCATION_SONNBLICK', 'LOCATION_STOCKHOLM', 'LOCATION_TOURS', 'rain_today_0', 'rain_today_1', 'MONTH_1', 'MONTH_2', 'MONTH_3', 'MONTH_4', 'MONTH_5', 'MONTH_6', 'MONTH_7', 'MONTH_8', 'MONTH_9', 'MONTH_10', 'MONTH_11', 'MONTH_12']\n"
     ]
    }
   ],
   "source": [
    "# initialize a OneHotEncoder\n",
    "encoder = preprocessing.OneHotEncoder(sparse=False, handle_unknown='ignore')\n",
    "# fit the encoder to the data i.e. identify the full list of categories across all categorical columns\n",
    "encoder.fit(weather[categorical_cols])\n",
    "# generate column names for each individual category using get_feature_names\n",
    "encoded_cols = list(encoder.get_feature_names(categorical_cols))\n",
    "print(encoded_cols)"
   ]
  },
  {
   "cell_type": "code",
   "execution_count": 13,
   "id": "89b9c987",
   "metadata": {},
   "outputs": [
    {
     "name": "stdout",
     "output_type": "stream",
     "text": [
      "        DATE  MONTH LOCATION  rain_today  cloud_cover  humidity  pressure  \\\n",
      "0 2000-01-01      1    BASEL           1     0.888889  0.877778  0.978495   \n",
      "1 2000-01-02      1    BASEL           0     0.888889  0.855556  0.981540   \n",
      "2 2000-01-03      1    BASEL           0     0.555556  0.788889  0.981159   \n",
      "3 2000-01-04      1    BASEL           1     0.777778  0.766667  0.976211   \n",
      "4 2000-01-05      1    BASEL           1     0.555556  0.888889  0.974688   \n",
      "\n",
      "   global_radiation  precipitation  sunshine  temp_mean  temp_min  temp_max  \\\n",
      "0          0.043084       0.001870  0.000000   0.494137  0.563604  0.434650   \n",
      "1          0.054422       0.000000  0.000000   0.505863  0.583039  0.448328   \n",
      "2          0.111111       0.000000  0.154167   0.482412  0.537102  0.448328   \n",
      "3          0.140590       0.021820  0.287500   0.510888  0.544170  0.489362   \n",
      "4          0.113379       0.004364  0.154167   0.546064  0.602473  0.506079   \n",
      "\n",
      "   LOCATION_BASEL  LOCATION_BUDAPEST  LOCATION_DE_BILT  LOCATION_DRESDEN  \\\n",
      "0             1.0                0.0               0.0               0.0   \n",
      "1             1.0                0.0               0.0               0.0   \n",
      "2             1.0                0.0               0.0               0.0   \n",
      "3             1.0                0.0               0.0               0.0   \n",
      "4             1.0                0.0               0.0               0.0   \n",
      "\n",
      "   LOCATION_DUSSELDORF  LOCATION_HEATHROW  LOCATION_KASSEL  \\\n",
      "0                  0.0                0.0              0.0   \n",
      "1                  0.0                0.0              0.0   \n",
      "2                  0.0                0.0              0.0   \n",
      "3                  0.0                0.0              0.0   \n",
      "4                  0.0                0.0              0.0   \n",
      "\n",
      "   LOCATION_LJUBLJANA  LOCATION_MAASTRICHT  LOCATION_MALMO  \\\n",
      "0                 0.0                  0.0             0.0   \n",
      "1                 0.0                  0.0             0.0   \n",
      "2                 0.0                  0.0             0.0   \n",
      "3                 0.0                  0.0             0.0   \n",
      "4                 0.0                  0.0             0.0   \n",
      "\n",
      "   LOCATION_MONTELIMAR  LOCATION_MUENCHEN  LOCATION_OSLO  LOCATION_PERPIGNAN  \\\n",
      "0                  0.0                0.0            0.0                 0.0   \n",
      "1                  0.0                0.0            0.0                 0.0   \n",
      "2                  0.0                0.0            0.0                 0.0   \n",
      "3                  0.0                0.0            0.0                 0.0   \n",
      "4                  0.0                0.0            0.0                 0.0   \n",
      "\n",
      "   LOCATION_SONNBLICK  LOCATION_STOCKHOLM  LOCATION_TOURS  rain_today_0  \\\n",
      "0                 0.0                 0.0             0.0           0.0   \n",
      "1                 0.0                 0.0             0.0           1.0   \n",
      "2                 0.0                 0.0             0.0           1.0   \n",
      "3                 0.0                 0.0             0.0           0.0   \n",
      "4                 0.0                 0.0             0.0           0.0   \n",
      "\n",
      "   rain_today_1  MONTH_1  MONTH_2  MONTH_3  MONTH_4  MONTH_5  MONTH_6  \\\n",
      "0           1.0      1.0      0.0      0.0      0.0      0.0      0.0   \n",
      "1           0.0      1.0      0.0      0.0      0.0      0.0      0.0   \n",
      "2           0.0      1.0      0.0      0.0      0.0      0.0      0.0   \n",
      "3           1.0      1.0      0.0      0.0      0.0      0.0      0.0   \n",
      "4           1.0      1.0      0.0      0.0      0.0      0.0      0.0   \n",
      "\n",
      "   MONTH_7  MONTH_8  MONTH_9  MONTH_10  MONTH_11  MONTH_12  \n",
      "0      0.0      0.0      0.0       0.0       0.0       0.0  \n",
      "1      0.0      0.0      0.0       0.0       0.0       0.0  \n",
      "2      0.0      0.0      0.0       0.0       0.0       0.0  \n",
      "3      0.0      0.0      0.0       0.0       0.0       0.0  \n",
      "4      0.0      0.0      0.0       0.0       0.0       0.0  \n"
     ]
    }
   ],
   "source": [
    "# perform the encoding, we use the transform method of encoder\n",
    "train_inputs[encoded_cols] = encoder.transform(train_inputs[categorical_cols])\n",
    "val_inputs[encoded_cols] = encoder.transform(val_inputs[categorical_cols])\n",
    "test_inputs[encoded_cols] = encoder.transform(test_inputs[categorical_cols])\n",
    "\n",
    "pd.set_option('display.max_columns', None)\n",
    "\n",
    "print(train_inputs.head())"
   ]
  },
  {
   "cell_type": "markdown",
   "id": "44f82c90",
   "metadata": {},
   "source": [
    "### Saving Processed Data to Disk"
   ]
  },
  {
   "cell_type": "code",
   "execution_count": 14,
   "id": "d3de46be",
   "metadata": {},
   "outputs": [
    {
     "name": "stdout",
     "output_type": "stream",
     "text": [
      "train_inputs: (37240, 44)\n",
      "train_targets: (37240,)\n",
      "val_inputs: (12402, 44)\n",
      "val_targets: (12402,)\n",
      "test_inputs: (12425, 44)\n",
      "test_targets: (12425,)\n"
     ]
    }
   ],
   "source": [
    "print('train_inputs:', train_inputs.shape)\n",
    "print('train_targets:', train_targets.shape)\n",
    "print('val_inputs:', val_inputs.shape)\n",
    "print('val_targets:', val_targets.shape)\n",
    "print('test_inputs:', test_inputs.shape)\n",
    "print('test_targets:', test_targets.shape)"
   ]
  },
  {
   "cell_type": "code",
   "execution_count": 15,
   "id": "844d9584",
   "metadata": {},
   "outputs": [],
   "source": [
    "# save inputs as parquet\n",
    "train_inputs.to_parquet('train_inputs.parquet')\n",
    "val_inputs.to_parquet('val_inputs.parquet')\n",
    "test_inputs.to_parquet('test_inputs.parquet')\n",
    "# convert targets into DataFrames and save them as parquet\n",
    "pd.DataFrame(train_targets).to_parquet('train_targets.parquet')\n",
    "pd.DataFrame(val_targets).to_parquet('val_targets.parquet')\n",
    "pd.DataFrame(test_targets).to_parquet('test_targets.parquet')"
   ]
  },
  {
   "cell_type": "code",
   "execution_count": 16,
   "id": "529e601d",
   "metadata": {},
   "outputs": [
    {
     "name": "stdout",
     "output_type": "stream",
     "text": [
      "train_inputs: (37240, 44)\n",
      "train_targets: (37240,)\n",
      "val_inputs: (12402, 44)\n",
      "val_targets: (12402,)\n",
      "test_inputs: (12425, 44)\n",
      "test_targets: (12425,)\n"
     ]
    }
   ],
   "source": [
    "# read the data back using pd.read_parquet()\n",
    "\n",
    "train_inputs = pd.read_parquet('train_inputs.parquet')\n",
    "val_inputs = pd.read_parquet('val_inputs.parquet')\n",
    "test_inputs = pd.read_parquet('test_inputs.parquet')\n",
    "\n",
    "train_targets = pd.read_parquet('train_targets.parquet')[target_col]\n",
    "val_targets = pd.read_parquet('val_targets.parquet')[target_col]\n",
    "test_targets = pd.read_parquet('test_targets.parquet')[target_col]\n",
    "\n",
    "print('train_inputs:', train_inputs.shape)\n",
    "print('train_targets:', train_targets.shape)\n",
    "print('val_inputs:', val_inputs.shape)\n",
    "print('val_targets:', val_targets.shape)\n",
    "print('test_inputs:', test_inputs.shape)\n",
    "print('test_targets:', test_targets.shape)"
   ]
  },
  {
   "cell_type": "markdown",
   "id": "fc8cceb2",
   "metadata": {},
   "source": [
    "## Training a Logistic Regression Model"
   ]
  },
  {
   "cell_type": "code",
   "execution_count": 17,
   "id": "acef73b6",
   "metadata": {},
   "outputs": [
    {
     "data": {
      "text/plain": [
       "LogisticRegression(class_weight='balanced', solver='liblinear')"
      ]
     },
     "execution_count": 17,
     "metadata": {},
     "output_type": "execute_result"
    }
   ],
   "source": [
    "model = LogisticRegression(solver='liblinear', class_weight='balanced')\n",
    "model.fit(train_inputs[numeric_cols + encoded_cols], train_targets) # train_inputs still contains categorical columns, we do not want to add them to the model"
   ]
  },
  {
   "cell_type": "code",
   "execution_count": 18,
   "id": "2abd4d5c",
   "metadata": {},
   "outputs": [
    {
     "name": "stdout",
     "output_type": "stream",
     "text": [
      "                feature    weight\n",
      "0           cloud_cover  1.119386\n",
      "1              humidity  0.522415\n",
      "2              pressure -9.595553\n",
      "3      global_radiation  0.183236\n",
      "4         precipitation  5.866358\n",
      "5              sunshine  0.714978\n",
      "6             temp_mean  2.098883\n",
      "7              temp_min  0.062442\n",
      "8              temp_max -1.046594\n",
      "9        LOCATION_BASEL  0.280410\n",
      "10    LOCATION_BUDAPEST -0.241166\n",
      "11     LOCATION_DE_BILT  0.439416\n",
      "12     LOCATION_DRESDEN  0.305685\n",
      "13  LOCATION_DUSSELDORF  0.518195\n",
      "14    LOCATION_HEATHROW  0.329447\n",
      "15      LOCATION_KASSEL  0.594148\n",
      "16   LOCATION_LJUBLJANA  0.081094\n",
      "17  LOCATION_MAASTRICHT  0.400829\n",
      "18       LOCATION_MALMO  0.105930\n",
      "19  LOCATION_MONTELIMAR -0.257875\n",
      "20    LOCATION_MUENCHEN  0.432245\n",
      "21        LOCATION_OSLO  0.276748\n",
      "22   LOCATION_PERPIGNAN -0.517126\n",
      "23   LOCATION_SONNBLICK  1.058513\n",
      "24   LOCATION_STOCKHOLM  0.240407\n",
      "25       LOCATION_TOURS  0.379027\n",
      "26         rain_today_0  1.693314\n",
      "27         rain_today_1  2.732612\n",
      "28              MONTH_1  0.768436\n",
      "29              MONTH_2  0.609389\n",
      "30              MONTH_3  0.320092\n",
      "31              MONTH_4  0.350929\n",
      "32              MONTH_5  0.146306\n",
      "33              MONTH_6  0.068921\n",
      "34              MONTH_7  0.084995\n",
      "35              MONTH_8 -0.030446\n",
      "36              MONTH_9  0.166320\n",
      "37             MONTH_10  0.466340\n",
      "38             MONTH_11  0.774044\n",
      "39             MONTH_12  0.700600\n",
      "40            intercept  4.425926\n"
     ]
    }
   ],
   "source": [
    "#check the weights and biases of the trained model\n",
    "weights = pd.DataFrame({\n",
    "    'feature': (numeric_cols + encoded_cols + ['intercept']),\n",
    "    'weight': model.coef_.tolist()[0] + model.intercept_.tolist()\n",
    "})\n",
    "\n",
    "print(weights)"
   ]
  },
  {
   "cell_type": "markdown",
   "id": "19570d1d",
   "metadata": {},
   "source": [
    "Each weight is applied to the value in a specific column of the input. Higher the weight, greater the impact of the column on the prediction."
   ]
  },
  {
   "cell_type": "code",
   "execution_count": 41,
   "id": "49798325",
   "metadata": {},
   "outputs": [
    {
     "data": {
      "image/png": "[encoded data removed]",
      "text/plain": [
       "<Figure size 1296x2160 with 1 Axes>"
      ]
     },
     "metadata": {
      "needs_background": "light"
     },
     "output_type": "display_data"
    }
   ],
   "source": [
    "plt.figure(figsize=(18,30))\n",
    "sns.barplot(data=weights.sort_values('weight', ascending=False), x='weight', y='feature')\n",
    "\n",
    "# Save the figure as a PNG file\n",
    "plt.tight_layout(pad=2.0)  # Increase the padding\n",
    "#plt.subplots_adjust(left=0.55)  # Increase if needed\n",
    "plt.savefig('model_weights.png', dpi=300)  # Saves the figure with 300 dpi\n",
    "\n",
    "plt.show()"
   ]
  },
  {
   "cell_type": "markdown",
   "id": "6e300242",
   "metadata": {},
   "source": [
    "## Evaluating the Model and Making Predictions"
   ]
  },
  {
   "cell_type": "markdown",
   "id": "9bfbf662",
   "metadata": {},
   "source": [
    "### Evaluating the Model"
   ]
  },
  {
   "cell_type": "code",
   "execution_count": 20,
   "id": "fb145cde",
   "metadata": {},
   "outputs": [
    {
     "name": "stdout",
     "output_type": "stream",
     "text": [
      "[1. 0. 0. ... 0. 1. 1.]\n",
      "0        0.0\n",
      "1        0.0\n",
      "2        1.0\n",
      "3        1.0\n",
      "4        0.0\n",
      "        ... \n",
      "60651    0.0\n",
      "60652    0.0\n",
      "60653    1.0\n",
      "60654    1.0\n",
      "60655    1.0\n",
      "Name: rain_tomorrow, Length: 37240, dtype: float64\n"
     ]
    }
   ],
   "source": [
    "X_train = train_inputs[numeric_cols + encoded_cols]\n",
    "X_val = val_inputs[numeric_cols + encoded_cols]\n",
    "X_test = test_inputs[numeric_cols + encoded_cols]\n",
    "\n",
    "# predictions for the three data sets\n",
    "train_preds = model.predict(X_train)\n",
    "val_preds = model.predict(X_val)\n",
    "test_preds = model.predict(X_test)\n",
    "\n",
    "# probabilities computed by the model for the three data sets\n",
    "train_probs = model.predict_proba(X_train)\n",
    "val_probs = model.predict_proba(X_val)\n",
    "test_probs = model.predict_proba(X_test)\n",
    "\n",
    "print(train_preds)\n",
    "print(train_targets)"
   ]
  },
  {
   "cell_type": "code",
   "execution_count": 21,
   "id": "9ac3ece4",
   "metadata": {},
   "outputs": [
    {
     "name": "stdout",
     "output_type": "stream",
     "text": [
      "The model predicts rain tomorrow with 68.58 % accuracy.\n"
     ]
    }
   ],
   "source": [
    "accuracy = accuracy_score(train_targets, train_preds)\n",
    "\n",
    "print(\"The model predicts rain tomorrow with \" + str(round((100*accuracy),2)) + \" % accuracy.\")"
   ]
  },
  {
   "cell_type": "code",
   "execution_count": 34,
   "id": "2031e46f",
   "metadata": {},
   "outputs": [
    {
     "data": {
      "text/plain": [
       "array([[0.71120175, 0.28879825],\n",
       "       [0.34389589, 0.65610411]])"
      ]
     },
     "execution_count": 34,
     "metadata": {},
     "output_type": "execute_result"
    }
   ],
   "source": [
    "confusion_matrix(train_targets, train_preds, normalize='true')"
   ]
  },
  {
   "cell_type": "code",
   "execution_count": 23,
   "id": "0deeb848",
   "metadata": {},
   "outputs": [
    {
     "name": "stdout",
     "output_type": "stream",
     "text": [
      "Accuracy: 68.58%\n"
     ]
    },
    {
     "data": {
      "text/plain": [
       "array([1., 0., 0., ..., 0., 1., 1.])"
      ]
     },
     "execution_count": 23,
     "metadata": {},
     "output_type": "execute_result"
    },
    {
     "data": {
      "image/png": "[encoded data removed]",
      "text/plain": [
       "<Figure size 432x288 with 2 Axes>"
      ]
     },
     "metadata": {
      "needs_background": "light"
     },
     "output_type": "display_data"
    }
   ],
   "source": [
    "# define a helper function to generate predictions, \n",
    "# compute the accuracy score and plot a confusion matrix for a given set of inputs\n",
    "def predict_and_plot(inputs, targets, name=''):\n",
    "    preds = model.predict(inputs)\n",
    "    \n",
    "    accuracy = accuracy_score(targets, preds)\n",
    "    print(\"Accuracy: {:.2f}%\".format(accuracy * 100))\n",
    "    \n",
    "    cf = confusion_matrix(targets, preds, normalize='true')\n",
    "    plt.figure()\n",
    "    sns.heatmap(cf, annot=True)\n",
    "    plt.xlabel('Prediction')\n",
    "    plt.ylabel('Target')\n",
    "    plt.title('{} Confusion Matrix'.format(name));\n",
    "    \n",
    "    return preds\n",
    "\n",
    "# use predict_and_plot function for the training data\n",
    "predict_and_plot(X_train, train_targets, 'Training')"
   ]
  },
  {
   "cell_type": "code",
   "execution_count": 24,
   "id": "de9b7943",
   "metadata": {},
   "outputs": [
    {
     "name": "stdout",
     "output_type": "stream",
     "text": [
      "Accuracy: 69.71%\n"
     ]
    },
    {
     "data": {
      "text/plain": [
       "array([1., 0., 0., ..., 1., 0., 0.])"
      ]
     },
     "execution_count": 24,
     "metadata": {},
     "output_type": "execute_result"
    },
    {
     "data": {
      "image/png": "[encoded data removed]",
      "text/plain": [
       "<Figure size 432x288 with 2 Axes>"
      ]
     },
     "metadata": {
      "needs_background": "light"
     },
     "output_type": "display_data"
    }
   ],
   "source": [
    "# use predict_and_plot function for the validation data\n",
    "predict_and_plot(X_val, val_targets, 'Validation')"
   ]
  },
  {
   "cell_type": "code",
   "execution_count": 25,
   "id": "a7ea9047",
   "metadata": {},
   "outputs": [
    {
     "name": "stdout",
     "output_type": "stream",
     "text": [
      "Accuracy: 67.78%\n"
     ]
    },
    {
     "data": {
      "text/plain": [
       "array([0., 0., 0., ..., 1., 1., 1.])"
      ]
     },
     "execution_count": 25,
     "metadata": {},
     "output_type": "execute_result"
    },
    {
     "data": {
      "image/png": "[encoded data removed]",
      "text/plain": [
       "<Figure size 432x288 with 2 Axes>"
      ]
     },
     "metadata": {
      "needs_background": "light"
     },
     "output_type": "display_data"
    }
   ],
   "source": [
    "# use predict_and_plot function for the test data\n",
    "predict_and_plot(X_test, test_targets, 'Test')"
   ]
  },
  {
   "cell_type": "markdown",
   "id": "3ba59c1c",
   "metadata": {},
   "source": [
    "Let's create two models: one that guesses randomly and another that always returns \"No\". Both of these models completely ignore the inputs given to them. We then compare their results to the model above."
   ]
  },
  {
   "cell_type": "code",
   "execution_count": 26,
   "id": "795557be",
   "metadata": {},
   "outputs": [
    {
     "data": {
      "text/plain": [
       "0.494728370221328"
      ]
     },
     "execution_count": 26,
     "metadata": {},
     "output_type": "execute_result"
    }
   ],
   "source": [
    "def random_guess(inputs):\n",
    "    return np.random.choice([0, 1], len(inputs))\n",
    "\n",
    "accuracy_score(test_targets, random_guess(X_test))"
   ]
  },
  {
   "cell_type": "code",
   "execution_count": 27,
   "id": "836ea39d",
   "metadata": {},
   "outputs": [
    {
     "data": {
      "text/plain": [
       "0.5271629778672032"
      ]
     },
     "execution_count": 27,
     "metadata": {},
     "output_type": "execute_result"
    }
   ],
   "source": [
    "def all_no(inputs):\n",
    "    return np.full(len(inputs), 0)\n",
    "\n",
    "accuracy_score(test_targets, all_no(X_test))"
   ]
  },
  {
   "cell_type": "markdown",
   "id": "7c96ef08",
   "metadata": {},
   "source": [
    "A random model performs at around 50% accuracy, as expected for a binary classification task. A naive model that always predicts \"No\" (i.e., no rain tomorrow) achieves a slightly higher accuracy of about 53% on the test dataset, due to class imbalance.\n",
    "\n",
    "In comparison, the trained logistic regression model achieves an accuracy of 67.78%, demonstrating that it captures meaningful patterns in the data and performs noticeably better than both random and naive baselines."
   ]
  },
  {
   "cell_type": "markdown",
   "id": "83b58e56",
   "metadata": {},
   "source": [
    "### Making Predictions on a Single Input"
   ]
  },
  {
   "cell_type": "code",
   "execution_count": 28,
   "id": "dca6cac5",
   "metadata": {},
   "outputs": [],
   "source": [
    "# create a new input\n",
    "new_input = {'MONTH': 2,\n",
    "             'LOCATION': 'BUDAPEST',\n",
    "             'rain_today': 0,\n",
    "             'cloud_cover': 5,\n",
    "             'humidity': 0.5,\n",
    "             'pressure': 1.1,\n",
    "             'global_radiation': np.nan,\n",
    "             'precipitation': np.nan,\n",
    "             'sunshine': 3,\n",
    "             'temp_mean': 20,\n",
    "             'temp_min': 13.0,\n",
    "             'temp_max': 25.0,\n",
    "             }"
   ]
  },
  {
   "cell_type": "code",
   "execution_count": 29,
   "id": "c9fbfd09",
   "metadata": {},
   "outputs": [
    {
     "data": {
      "text/plain": [
       "(0.0, 0.8284264428545524)"
      ]
     },
     "execution_count": 29,
     "metadata": {},
     "output_type": "execute_result"
    }
   ],
   "source": [
    "# define a helper function to make predictions for individual inputs\n",
    "def predict_input(single_input):\n",
    "    input_df = pd.DataFrame([single_input])\n",
    "    input_df[numeric_cols] = imputer.transform(input_df[numeric_cols])\n",
    "    input_df[numeric_cols] = scaler.transform(input_df[numeric_cols])\n",
    "    input_df[encoded_cols] = encoder.transform(input_df[categorical_cols])\n",
    "    X_input = input_df[numeric_cols + encoded_cols]\n",
    "    pred = model.predict(X_input)[0]\n",
    "    prob = model.predict_proba(X_input)[0][list(model.classes_).index(pred)]\n",
    "    return pred, prob\n",
    "\n",
    "predict_input(new_input)"
   ]
  },
  {
   "cell_type": "markdown",
   "id": "31d538ba",
   "metadata": {},
   "source": [
    "The model predicts an 82.8% probability that it will not rain in Budapest tomorrow."
   ]
  },
  {
   "cell_type": "markdown",
   "id": "da191add",
   "metadata": {},
   "source": [
    "## Saving the Trained Model"
   ]
  },
  {
   "cell_type": "code",
   "execution_count": 30,
   "id": "f5debc58",
   "metadata": {},
   "outputs": [
    {
     "data": {
      "text/plain": [
       "['europe_rain.joblib']"
      ]
     },
     "execution_count": 30,
     "metadata": {},
     "output_type": "execute_result"
    }
   ],
   "source": [
    "# create a dictionary containing all the required objects\n",
    "europe_rain = {\n",
    "    'model': model,\n",
    "    'imputer': imputer,\n",
    "    'scaler': scaler,\n",
    "    'encoder': encoder,\n",
    "    'input_cols': input_cols,\n",
    "    'target_col': target_col,\n",
    "    'numeric_cols': numeric_cols,\n",
    "    'categorical_cols': categorical_cols,\n",
    "    'encoded_cols': encoded_cols\n",
    "}\n",
    "\n",
    "# save this to a file using joblib.dump\n",
    "joblib.dump(europe_rain, 'europe_rain.joblib')"
   ]
  },
  {
   "cell_type": "code",
   "execution_count": 31,
   "id": "27aa6744",
   "metadata": {},
   "outputs": [
    {
     "data": {
      "text/plain": [
       "0.6778269617706237"
      ]
     },
     "execution_count": 31,
     "metadata": {},
     "output_type": "execute_result"
    }
   ],
   "source": [
    "# load back the model using joblib.load\n",
    "europe_rain2 = joblib.load('europe_rain.joblib')\n",
    "\n",
    "test_preds2 = europe_rain2['model'].predict(X_test)\n",
    "accuracy_score(test_targets, test_preds2)"
   ]
  },
  {
   "cell_type": "markdown",
   "id": "e7dc1082",
   "metadata": {},
   "source": [
    "## Conclusion"
   ]
  },
  {
   "cell_type": "markdown",
   "id": "c5908a46",
   "metadata": {},
   "source": [
    "In this project, we trained a logistic regression model to predict whether it will rain tomorrow based on historical weather data from various European cities. After extensive preprocessing—including reshaping the data, handling missing values, and encoding categorical variables—we evaluated the model on training, validation, and test datasets.\n",
    "\n",
    "The model achieved an accuracy of **68.58%** on the test set, outperforming both a random classifier (50%) and a naive baseline that always predicts \"no rain\" (53%). This suggests that the model has learned meaningful relationships from the data.\n",
    "\n",
    "The confusion matrices across the three datasets further support the model’s generalization ability:\n",
    "\n",
    "- **Training:** 71.1% True Negatives, 65.6% True Positives  \n",
    "- **Validation:** 72.8% True Negatives, 65.9% True Positives  \n",
    "- **Test:** 69.3% True Negatives, 66.1% True Positives  \n",
    "\n",
    "These results are fairly consistent, indicating that the model is **not overfitting**—it performs similarly well on unseen validation and test data. While there is still room for improvement, especially in reducing false positives, the current model offers a solid baseline for predicting rainfall using logistic regression."
   ]
  }
 ],
 "metadata": {
  "kernelspec": {
   "display_name": "Python 3",
   "language": "python",
   "name": "python3"
  },
  "language_info": {
   "codemirror_mode": {
    "name": "ipython",
    "version": 3
   },
   "file_extension": ".py",
   "mimetype": "text/x-python",
   "name": "python",
   "nbconvert_exporter": "python",
   "pygments_lexer": "ipython3",
   "version": "3.8.8"
  }
 },
 "nbformat": 4,
 "nbformat_minor": 5
}
